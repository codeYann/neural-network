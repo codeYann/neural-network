{
 "cells": [
  {
   "cell_type": "markdown",
   "id": "4d954eaf-fe94-4165-94e2-c32516ec0f2b",
   "metadata": {
    "canvas": {
     "comments": [],
     "componentType": "CodeCell",
     "copiedOriginId": null,
     "diskcache": false,
     "headerColor": "inherit",
     "id": "c641cb4f-a133-41d2-bc04-e5ef5e00f18a",
     "isComponent": false,
     "name": "",
     "parents": []
    },
    "tags": []
   },
   "source": [
    "# Creating a naive neural network to model a logic implication"
   ]
  },
  {
   "cell_type": "markdown",
   "id": "26659a22-d9ec-4577-9901-ba7e744b6dbc",
   "metadata": {
    "canvas": {
     "comments": [],
     "componentType": "CodeCell",
     "copiedOriginId": null,
     "diskcache": false,
     "headerColor": "inherit",
     "id": "6d829e6c-da04-460b-adc6-b7b039e51e95",
     "isComponent": false,
     "name": "",
     "parents": []
    }
   },
   "source": [
    "## Creating and exporting a dataset"
   ]
  },
  {
   "cell_type": "code",
   "execution_count": 3,
   "id": "f4e61265-3132-4c7e-a523-c8ff7d06bed6",
   "metadata": {
    "canvas": {
     "comments": [],
     "componentType": "CodeCell",
     "copiedOriginId": null,
     "diskcache": false,
     "headerColor": "inherit",
     "id": "ad99ce35-0614-4424-9ce3-de3198ded2fd",
     "isComponent": false,
     "name": "",
     "parents": []
    }
   },
   "outputs": [],
   "source": [
    "import pandas as pd\n",
    "import json\n",
    "import numpy as np\n",
    "from typing import List"
   ]
  },
  {
   "cell_type": "code",
   "execution_count": 4,
   "id": "5d8417d9-b0ef-44fd-ace3-fa7bcc9a99d3",
   "metadata": {
    "canvas": {
     "comments": [],
     "componentType": "CodeCell",
     "copiedOriginId": null,
     "diskcache": false,
     "headerColor": "inherit",
     "id": "b54037fb-f362-4a83-ad5d-8d31ea050a6d",
     "isComponent": false,
     "name": "",
     "parents": []
    },
    "tags": []
   },
   "outputs": [],
   "source": [
    "data_set = np.array(\n",
    "    [\n",
    "        {\n",
    "            \"X1\": 0,\n",
    "            \"X2\": 0,\n",
    "            \"Y\": 1,\n",
    "        },\n",
    "        {\n",
    "            \"X1\": 0,\n",
    "            \"X2\": 1,\n",
    "            \"Y\": 1,\n",
    "        },\n",
    "        {\n",
    "            \"X1\": 1,\n",
    "            \"X2\": 0,\n",
    "            \"Y\": 0,\n",
    "        },\n",
    "        {\n",
    "            \"X1\": 1,\n",
    "            \"X2\": 1,\n",
    "            \"Y\": 1,\n",
    "        },\n",
    "    ],\n",
    "    dtype=dict,\n",
    ")"
   ]
  },
  {
   "cell_type": "code",
   "execution_count": 5,
   "id": "662d4d34-b00b-4c7b-985b-7de61c33a4e5",
   "metadata": {
    "canvas": {
     "comments": [],
     "componentType": "CodeCell",
     "copiedOriginId": null,
     "diskcache": false,
     "headerColor": "inherit",
     "id": "a8c29c60-e4e0-4b33-b435-061b525ddb4f",
     "isComponent": false,
     "name": "",
     "parents": []
    }
   },
   "outputs": [],
   "source": [
    "database = json.dumps(data_set.tolist())\n",
    "try:\n",
    "    database_json_file = pd.read_json(database)\n",
    "    database_json_file.to_csv(\"./data/logic.csv\", encoding=\"utf-8\")\n",
    "except:\n",
    "    raise \"It's not possible to create logic.csv\""
   ]
  },
  {
   "cell_type": "markdown",
   "id": "ab723662-439e-4f90-8211-62759f900248",
   "metadata": {
    "canvas": {
     "comments": [],
     "componentType": "CodeCell",
     "copiedOriginId": null,
     "diskcache": false,
     "headerColor": "inherit",
     "id": "7db64c2e-834e-4709-8ad5-a69a9142eaf8",
     "isComponent": false,
     "name": "",
     "parents": []
    }
   },
   "source": [
    "## Creating a perceptron class"
   ]
  },
  {
   "cell_type": "code",
   "execution_count": 6,
   "id": "1588619d-8781-4f0e-b9ee-714edb24725f",
   "metadata": {
    "canvas": {
     "comments": [],
     "componentType": "CodeCell",
     "copiedOriginId": null,
     "diskcache": false,
     "headerColor": "inherit",
     "id": "6ddc19ff-acaf-4fb1-9325-1c43ec550785",
     "isComponent": false,
     "name": "",
     "parents": []
    }
   },
   "outputs": [],
   "source": [
    "class Perceptron(object):\n",
    "    def __init__(self, n_of_inputs: int) -> None:\n",
    "        self.weights = np.zeros(n_of_inputs)\n",
    "        self.bias = 0\n",
    "\n",
    "    def set_weights(self, weights: list) -> None:\n",
    "        if len(weights) != len(self.weights):\n",
    "            raise \"Impossible to set weight list. The len are incompatible\"\n",
    "        for i in range(len(self.weights)):\n",
    "            self.weights[i] = weights[i]\n",
    "\n",
    "    def set_bias(self, value: np.float64) -> None:\n",
    "        self.bias = value\n",
    "\n",
    "    def predict(self, inputs: list):\n",
    "        summation = np.dot(inputs, self.weights) + self.bias\n",
    "        if summation <= 0:\n",
    "            return 0\n",
    "        return 1"
   ]
  },
  {
   "cell_type": "markdown",
   "id": "65b15d83-2717-43a7-975c-60cf6974482e",
   "metadata": {
    "canvas": {
     "comments": [],
     "componentType": "CodeCell",
     "copiedOriginId": null,
     "diskcache": false,
     "headerColor": "inherit",
     "id": "f86e49fd-8024-41d4-b9ef-bc8a420a7684",
     "isComponent": false,
     "name": "",
     "parents": []
    }
   },
   "source": [
    "## Getting input values"
   ]
  },
  {
   "cell_type": "code",
   "execution_count": 7,
   "id": "4cd6ec72-b8a7-4276-872e-294fac40bf85",
   "metadata": {
    "canvas": {
     "comments": [],
     "componentType": "CodeCell",
     "copiedOriginId": null,
     "diskcache": false,
     "headerColor": "inherit",
     "id": "f9dd7d9f-072e-448f-98c8-c90e8f7078a6",
     "isComponent": false,
     "name": "",
     "parents": []
    }
   },
   "outputs": [],
   "source": [
    "df = pd.read_csv(\"./data/logic.csv\")"
   ]
  },
  {
   "cell_type": "markdown",
   "id": "e59aa7c0-12a8-4f36-be66-aae0391a941d",
   "metadata": {
    "canvas": {
     "comments": [],
     "componentType": "CodeCell",
     "copiedOriginId": null,
     "diskcache": false,
     "headerColor": "inherit",
     "id": "50a937a6-dabf-4068-a4f6-1ff8fa2522fc",
     "isComponent": false,
     "name": "",
     "parents": []
    }
   },
   "source": [
    "## Setting a neural network architecture"
   ]
  },
  {
   "cell_type": "code",
   "execution_count": 15,
   "id": "3b077b89-6e66-480d-a21c-ecf742e55f59",
   "metadata": {
    "canvas": {
     "comments": [],
     "componentType": "CodeCell",
     "copiedOriginId": null,
     "diskcache": false,
     "headerColor": "inherit",
     "id": "e5ac6496-c5b4-4eba-89ce-def3a3dcd764",
     "isComponent": false,
     "name": "",
     "parents": []
    }
   },
   "outputs": [],
   "source": [
    "P1 = Perceptron(n_of_inputs=2)\n",
    "P1.set_bias(2)\n",
    "P1.set_weights([2, 2])"
   ]
  },
  {
   "cell_type": "code",
   "execution_count": 16,
   "id": "5b0c3c64-fe1b-4e3d-8530-6883c099d6bf",
   "metadata": {
    "canvas": {
     "comments": [],
     "componentType": "CodeCell",
     "copiedOriginId": null,
     "diskcache": false,
     "headerColor": "inherit",
     "id": "c5c7481e-ebf4-421c-b304-855bb8587884",
     "isComponent": false,
     "name": "",
     "parents": []
    }
   },
   "outputs": [],
   "source": [
    "P2 = Perceptron(n_of_inputs=2)\n",
    "P2.set_bias(0.7)\n",
    "P2.set_weights([-1, 2])"
   ]
  },
  {
   "cell_type": "code",
   "execution_count": 17,
   "id": "68c1c927-b880-492c-986f-137d34ecd5fc",
   "metadata": {
    "canvas": {
     "comments": [],
     "componentType": "CodeCell",
     "copiedOriginId": null,
     "diskcache": false,
     "headerColor": "inherit",
     "id": "9e5ea663-432c-483c-ba62-2e44e7389f67",
     "isComponent": false,
     "name": "",
     "parents": []
    }
   },
   "outputs": [],
   "source": [
    "output = Perceptron(n_of_inputs=2)\n",
    "output.set_bias(-1.5)\n",
    "output.set_weights([1, 1])"
   ]
  },
  {
   "cell_type": "markdown",
   "id": "86106feb-3af5-408e-91df-d5d6dde6f1c4",
   "metadata": {
    "canvas": {
     "comments": [],
     "componentType": "CodeCell",
     "copiedOriginId": null,
     "diskcache": false,
     "headerColor": "inherit",
     "id": "897e5dfa-c6fe-46a6-8fbe-1d056a9e302c",
     "isComponent": false,
     "name": "",
     "parents": []
    }
   },
   "source": [
    "## Getting neural network final output"
   ]
  },
  {
   "cell_type": "code",
   "execution_count": 18,
   "id": "2974ddde-f0d4-444f-a587-2f8c18aa932a",
   "metadata": {
    "canvas": {
     "comments": [],
     "componentType": "CodeCell",
     "copiedOriginId": "e76333a3-8017-47f2-bfc5-400a6f421b53",
     "diskcache": false,
     "headerColor": "inherit",
     "id": "9809b1b7-c322-4416-9c33-3264553f2166",
     "isComponent": false,
     "name": "",
     "parents": []
    }
   },
   "outputs": [],
   "source": [
    "def getting_output_value(\n",
    "    output_perceptron: Perceptron,\n",
    "    perceptrons: List[Perceptron],\n",
    "    df: pd.DataFrame,\n",
    ") -> list:\n",
    "    output_value = []\n",
    "    inputs_data = df.loc[:, [\"X1\", \"X2\"]]\n",
    "    columns_data = inputs_data.columns\n",
    "\n",
    "    for i in range(len(inputs_data)):\n",
    "        for j in range(len(columns_data) - 1):\n",
    "            x1 = inputs_data[columns_data[j]][i]\n",
    "            x2 = inputs_data[columns_data[j + 1]][i]\n",
    "            response = output_perceptron.predict(\n",
    "                [perceptrons[j].predict([x1, x2]), perceptrons[j + 1].predict([x1, x2])]\n",
    "            )\n",
    "            output_value.append(response)\n",
    "    return output_value"
   ]
  },
  {
   "cell_type": "markdown",
   "id": "b50c13af-d967-4a64-93cb-c35ceb6355cf",
   "metadata": {
    "canvas": {
     "comments": [],
     "componentType": "CodeCell",
     "copiedOriginId": null,
     "diskcache": false,
     "headerColor": "inherit",
     "id": "e98fee4a-87bb-463a-a3d6-df8f27038989",
     "isComponent": false,
     "name": "",
     "parents": []
    }
   },
   "source": [
    "## Exporting predict values got by output percetron"
   ]
  },
  {
   "cell_type": "code",
   "execution_count": 19,
   "id": "73bcc61f-0d32-407b-8661-1325765bb1a4",
   "metadata": {
    "canvas": {
     "comments": [],
     "componentType": "CodeCell",
     "copiedOriginId": null,
     "diskcache": false,
     "headerColor": "inherit",
     "id": "1193e3f8-9f5a-43f9-97c2-eb347927e3e4",
     "isComponent": false,
     "name": "",
     "parents": []
    }
   },
   "outputs": [],
   "source": [
    "output_list = getting_output_value(output, [P1, P2], df)\n",
    "df[\"Ŷ\"] = np.array(output_list, dtype=np.int64)"
   ]
  },
  {
   "cell_type": "markdown",
   "id": "6a23cfd0-ec3a-4efb-9948-647e781aca2d",
   "metadata": {
    "canvas": {
     "comments": [],
     "componentType": "CodeCell",
     "copiedOriginId": null,
     "diskcache": false,
     "headerColor": "inherit",
     "id": "95db9630-2087-40b2-ae88-e2b829baa2a5",
     "isComponent": false,
     "name": "",
     "parents": []
    }
   },
   "source": [
    "## Exporting the loss function $ Y - \\hat{Y}$"
   ]
  },
  {
   "cell_type": "code",
   "execution_count": 20,
   "id": "8f7803b3-1856-48ba-83a0-6894f323e68d",
   "metadata": {
    "canvas": {
     "comments": [],
     "componentType": "CodeCell",
     "copiedOriginId": null,
     "diskcache": false,
     "headerColor": "inherit",
     "id": "0ed73bd9-ed9b-4215-9079-1078a5edc3c9",
     "isComponent": false,
     "name": "",
     "parents": []
    }
   },
   "outputs": [],
   "source": [
    "df[\"e\"] = pd.Series(\n",
    "    np.array([df[\"Y\"][i] - df[\"Ŷ\"][i] for i in range(len(df[\"Y\"]))], dtype=np.int64)\n",
    ")"
   ]
  },
  {
   "cell_type": "markdown",
   "id": "d5462fe0-bfb4-4d5c-b506-76eb35a91cd3",
   "metadata": {
    "canvas": {
     "comments": [],
     "componentType": "CodeCell",
     "copiedOriginId": null,
     "diskcache": false,
     "headerColor": "inherit",
     "id": "dba5f0b4-c930-4f5a-b3ea-f7a5a34b0597",
     "isComponent": false,
     "name": "",
     "parents": []
    }
   },
   "source": [
    "## Exporting dataframe as csv file"
   ]
  },
  {
   "cell_type": "code",
   "execution_count": 21,
   "id": "d63a0a1b-6fc8-4cf1-bde0-d69595972272",
   "metadata": {
    "canvas": {
     "comments": [],
     "componentType": "CodeCell",
     "copiedOriginId": null,
     "diskcache": false,
     "headerColor": "inherit",
     "id": "13ada522-5389-4770-9920-6365754f9cc5",
     "isComponent": false,
     "name": "",
     "parents": []
    }
   },
   "outputs": [],
   "source": [
    "df.to_csv(\"./data/logic.csv\", encoding=\"utf-8\")"
   ]
  }
 ],
 "metadata": {
  "canvas": {
   "colorPalette": [
    "inherit",
    "inherit",
    "inherit",
    "inherit",
    "inherit",
    "inherit",
    "inherit",
    "inherit",
    "inherit",
    "inherit"
   ],
   "parameters": [],
   "version": "1.0"
  },
  "kernelspec": {
   "display_name": "Python 3 (ipykernel)",
   "language": "python",
   "name": "python3"
  },
  "language_info": {
   "codemirror_mode": {
    "name": "ipython",
    "version": 3
   },
   "file_extension": ".py",
   "mimetype": "text/x-python",
   "name": "python",
   "nbconvert_exporter": "python",
   "pygments_lexer": "ipython3",
   "version": "3.10.8"
  }
 },
 "nbformat": 4,
 "nbformat_minor": 5
}
