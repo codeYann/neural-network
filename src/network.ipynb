{
 "cells": [
  {
   "cell_type": "code",
   "execution_count": 3,
   "id": "b91bedc7-aa24-408f-bf45-65846c4b5a59",
   "metadata": {
    "canvas": {
     "comments": [],
     "componentType": "CodeCell",
     "copiedOriginId": null,
     "diskcache": false,
     "headerColor": "inherit",
     "id": "e7e90157-e7bb-457e-83a0-5456cd6d4e86",
     "isComponent": false,
     "name": "",
     "parents": []
    },
    "tags": []
   },
   "outputs": [],
   "source": [
    "import torch\n",
    "from torch import nn\n",
    "import numpy as np"
   ]
  },
  {
   "cell_type": "markdown",
   "id": "7abb8354-56b4-4438-acad-8a34f9cafbf7",
   "metadata": {
    "canvas": {
     "comments": [],
     "componentType": "CodeCell",
     "copiedOriginId": null,
     "diskcache": false,
     "headerColor": "inherit",
     "id": "1442499c-0fc9-4905-8a30-37cc17683ba9",
     "isComponent": false,
     "name": "",
     "parents": []
    }
   },
   "source": [
    "# Creating a line model"
   ]
  },
  {
   "cell_type": "code",
   "execution_count": 4,
   "id": "0df48bf5-db62-4774-82ff-6eadf10451d3",
   "metadata": {
    "canvas": {
     "comments": [],
     "componentType": "CodeCell",
     "copiedOriginId": null,
     "diskcache": false,
     "headerColor": "inherit",
     "id": "5a10720c-576c-46da-9da4-a81b8be1c631",
     "isComponent": false,
     "name": "",
     "parents": []
    }
   },
   "outputs": [],
   "source": [
    "class LineNetwork(nn.Module):\n",
    "    def __init__(self) -> None:\n",
    "        super().__init__()\n",
    "        self.layers = nn.Sequential(nn.Linear(1, 1))\n",
    "\n",
    "    def forward(self, x: list) -> nn.Sequential:\n",
    "        return self.layers(x)"
   ]
  },
  {
   "cell_type": "markdown",
   "id": "4e3f4045-f3b7-44ae-bc4f-8cbb430f12cf",
   "metadata": {
    "canvas": {
     "comments": [],
     "componentType": "CodeCell",
     "copiedOriginId": null,
     "diskcache": false,
     "headerColor": "inherit",
     "id": "45c35a4f-8419-4bf1-b23b-9baa2686a769",
     "isComponent": false,
     "name": "",
     "parents": []
    }
   },
   "source": [
    "# Train our model"
   ]
  },
  {
   "cell_type": "markdown",
   "id": "3013f3a7-4feb-4fdf-b5c9-9583fac4b2c1",
   "metadata": {
    "canvas": {
     "comments": [],
     "componentType": "CodeCell",
     "copiedOriginId": null,
     "diskcache": false,
     "headerColor": "inherit",
     "id": "5c3a2fe9-dc24-46e0-ba5d-de4205bd53ba",
     "isComponent": false,
     "name": "",
     "parents": []
    }
   },
   "source": [
    "## Preparing our data set to train line model"
   ]
  },
  {
   "cell_type": "code",
   "execution_count": 5,
   "id": "e299294c-f011-4f61-bdec-5b6325f224db",
   "metadata": {
    "canvas": {
     "comments": [],
     "componentType": "CodeCell",
     "copiedOriginId": null,
     "diskcache": false,
     "headerColor": "inherit",
     "id": "f2a69d09-11cd-465a-a6a3-b0512a199adb",
     "isComponent": false,
     "name": "",
     "parents": []
    }
   },
   "outputs": [],
   "source": [
    "from torch.utils.data import Dataset, DataLoader\n",
    "import torch.distributions.uniform as urand"
   ]
  },
  {
   "cell_type": "code",
   "execution_count": 6,
   "id": "502ea6d7-3de1-4f88-9dbd-12ce8f744db6",
   "metadata": {
    "canvas": {
     "comments": [],
     "componentType": "CodeCell",
     "copiedOriginId": null,
     "diskcache": false,
     "headerColor": "inherit",
     "id": "5c411015-7754-4f64-b455-a21a604bcb84",
     "isComponent": false,
     "name": "",
     "parents": []
    }
   },
   "outputs": [],
   "source": [
    "class AlgebricDataSet(Dataset):\n",
    "    def __init__(self, f, interval: tuple, nsamples: int) -> None:\n",
    "        X = urand.Uniform(interval[0], interval[1]).sample([nsamples])\n",
    "        self.data = [(x, f(x)) for x in X]\n",
    "\n",
    "    def __len__(self) -> int:\n",
    "        return len(self.data)\n",
    "\n",
    "    def __getitem__(self, idx: int) -> tuple:\n",
    "        return self.data[idx]"
   ]
  },
  {
   "cell_type": "code",
   "execution_count": 7,
   "id": "69ee829e-4198-4077-b40d-09e6a62b66fe",
   "metadata": {
    "canvas": {
     "comments": [],
     "componentType": "CodeCell",
     "copiedOriginId": null,
     "diskcache": false,
     "headerColor": "inherit",
     "id": "4b0bf6fc-9acd-4ca8-9b6d-b37eab0bd20b",
     "isComponent": false,
     "name": "",
     "parents": []
    }
   },
   "outputs": [],
   "source": [
    "line = lambda x: 2 * x + 3\n",
    "interval = (-10, 10)\n",
    "train_nsamples = 1000\n",
    "test_nsamples = 1000"
   ]
  },
  {
   "cell_type": "code",
   "execution_count": 8,
   "id": "ab3722ae-5565-4576-a0d3-19f22f0bdf2d",
   "metadata": {
    "canvas": {
     "comments": [],
     "componentType": "CodeCell",
     "copiedOriginId": null,
     "diskcache": false,
     "headerColor": "inherit",
     "id": "50180e3d-a7b6-4546-b5b7-1ea9079075b0",
     "isComponent": false,
     "name": "",
     "parents": []
    }
   },
   "outputs": [],
   "source": [
    "train_dataset = AlgebricDataSet(line, interval, train_nsamples)\n",
    "test_dataset = AlgebricDataSet(line, interval, test_nsamples)"
   ]
  },
  {
   "cell_type": "code",
   "execution_count": 9,
   "id": "0904288b-2e95-4808-8488-8c50e2c1041b",
   "metadata": {
    "canvas": {
     "comments": [],
     "componentType": "CodeCell",
     "copiedOriginId": null,
     "diskcache": false,
     "headerColor": "inherit",
     "id": "fc3898a3-c33e-49bb-8da6-7e105e8b1ef6",
     "isComponent": false,
     "name": "",
     "parents": []
    }
   },
   "outputs": [],
   "source": [
    "train_dataloader = DataLoader(train_dataset, train_nsamples, shuffle=True)\n",
    "test_dataloader = DataLoader(test_dataset, test_nsamples, shuffle=True)"
   ]
  },
  {
   "cell_type": "code",
   "execution_count": 10,
   "id": "10252139-507f-4a9c-99ee-35d3e654b8fb",
   "metadata": {
    "canvas": {
     "comments": [],
     "componentType": "CodeCell",
     "copiedOriginId": null,
     "diskcache": false,
     "headerColor": "inherit",
     "id": "25684fc4-279b-4614-aa95-8113744de11c",
     "isComponent": false,
     "name": "",
     "parents": []
    }
   },
   "outputs": [],
   "source": [
    "device = \"cuda\" if torch.cuda.is_available() else \"cpu\""
   ]
  },
  {
   "cell_type": "code",
   "execution_count": 11,
   "id": "b1650f3a-b79b-45cb-9e4e-24ab6acc2209",
   "metadata": {
    "canvas": {
     "comments": [],
     "componentType": "CodeCell",
     "copiedOriginId": null,
     "diskcache": false,
     "headerColor": "inherit",
     "id": "b3862fb5-8b46-4bcb-a048-041a9c6d2f6b",
     "isComponent": false,
     "name": "",
     "parents": []
    }
   },
   "outputs": [],
   "source": [
    "model = LineNetwork().to(device)"
   ]
  },
  {
   "cell_type": "code",
   "execution_count": 12,
   "id": "9a4727b1-a65b-429f-bb3e-1507b4488b00",
   "metadata": {
    "canvas": {
     "comments": [],
     "componentType": "CodeCell",
     "copiedOriginId": null,
     "diskcache": false,
     "headerColor": "inherit",
     "id": "ef4dd981-b164-48f6-be43-f6d920cb9d99",
     "isComponent": false,
     "name": "",
     "parents": []
    }
   },
   "outputs": [],
   "source": [
    "loss_function = nn.MSELoss()\n",
    "optimizer = torch.optim.SGD(model.parameters(), lr=1e-3)"
   ]
  }
 ],
 "metadata": {
  "canvas": {
   "colorPalette": [
    "inherit",
    "inherit",
    "inherit",
    "inherit",
    "inherit",
    "inherit",
    "inherit",
    "inherit",
    "inherit",
    "inherit"
   ],
   "parameters": [],
   "version": "1.0"
  },
  "kernelspec": {
   "display_name": "Python 3 (ipykernel)",
   "language": "python",
   "name": "python3"
  },
  "language_info": {
   "codemirror_mode": {
    "name": "ipython",
    "version": 3
   },
   "file_extension": ".py",
   "mimetype": "text/x-python",
   "name": "python",
   "nbconvert_exporter": "python",
   "pygments_lexer": "ipython3",
   "version": "3.10.8"
  },
  "vscode": {
   "interpreter": {
    "hash": "e7370f93d1d0cde622a1f8e1c04877d8463912d04d973331ad4851f04de6915a"
   }
  }
 },
 "nbformat": 4,
 "nbformat_minor": 5
}
